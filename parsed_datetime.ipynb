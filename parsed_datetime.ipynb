{
 "cells": [
  {
   "cell_type": "code",
   "execution_count": 36,
   "metadata": {},
   "outputs": [],
   "source": [
    "import pandas as pd\n",
    "from datetime import datetime"
   ]
  },
  {
   "cell_type": "code",
   "execution_count": 37,
   "metadata": {},
   "outputs": [
    {
     "data": {
      "text/html": [
       "<div>\n",
       "<style scoped>\n",
       "    .dataframe tbody tr th:only-of-type {\n",
       "        vertical-align: middle;\n",
       "    }\n",
       "\n",
       "    .dataframe tbody tr th {\n",
       "        vertical-align: top;\n",
       "    }\n",
       "\n",
       "    .dataframe thead th {\n",
       "        text-align: right;\n",
       "    }\n",
       "</style>\n",
       "<table border=\"1\" class=\"dataframe\">\n",
       "  <thead>\n",
       "    <tr style=\"text-align: right;\">\n",
       "      <th></th>\n",
       "      <th>ID</th>\n",
       "      <th>video_id</th>\n",
       "      <th>upload_date</th>\n",
       "      <th>video_url</th>\n",
       "    </tr>\n",
       "  </thead>\n",
       "  <tbody>\n",
       "    <tr>\n",
       "      <th>0</th>\n",
       "      <td>0</td>\n",
       "      <td>lk5o2PK76hs</td>\n",
       "      <td>2010-10-28T21:49:10Z</td>\n",
       "      <td>https://www.youtube.com/watch?v=lk5o2PK76hs</td>\n",
       "    </tr>\n",
       "    <tr>\n",
       "      <th>1</th>\n",
       "      <td>1</td>\n",
       "      <td>cU63znm-aO8</td>\n",
       "      <td>2011-12-30T07:24:03Z</td>\n",
       "      <td>https://www.youtube.com/watch?v=cU63znm-aO8</td>\n",
       "    </tr>\n",
       "    <tr>\n",
       "      <th>2</th>\n",
       "      <td>2</td>\n",
       "      <td>xXtA4QTfKT8</td>\n",
       "      <td>2019-09-08T14:17:19Z</td>\n",
       "      <td>https://www.youtube.com/watch?v=xXtA4QTfKT8</td>\n",
       "    </tr>\n",
       "    <tr>\n",
       "      <th>3</th>\n",
       "      <td>3</td>\n",
       "      <td>ZyBDKu55EGw</td>\n",
       "      <td>2020-05-07T15:18:10Z</td>\n",
       "      <td>https://www.youtube.com/watch?v=ZyBDKu55EGw</td>\n",
       "    </tr>\n",
       "    <tr>\n",
       "      <th>4</th>\n",
       "      <td>4</td>\n",
       "      <td>HbaarPJ3Jvs</td>\n",
       "      <td>2016-05-18T22:47:36Z</td>\n",
       "      <td>https://www.youtube.com/watch?v=HbaarPJ3Jvs</td>\n",
       "    </tr>\n",
       "  </tbody>\n",
       "</table>\n",
       "</div>"
      ],
      "text/plain": [
       "   ID     video_id           upload_date  \\\n",
       "0   0  lk5o2PK76hs  2010-10-28T21:49:10Z   \n",
       "1   1  cU63znm-aO8  2011-12-30T07:24:03Z   \n",
       "2   2  xXtA4QTfKT8  2019-09-08T14:17:19Z   \n",
       "3   3  ZyBDKu55EGw  2020-05-07T15:18:10Z   \n",
       "4   4  HbaarPJ3Jvs  2016-05-18T22:47:36Z   \n",
       "\n",
       "                                     video_url  \n",
       "0  https://www.youtube.com/watch?v=lk5o2PK76hs  \n",
       "1  https://www.youtube.com/watch?v=cU63znm-aO8  \n",
       "2  https://www.youtube.com/watch?v=xXtA4QTfKT8  \n",
       "3  https://www.youtube.com/watch?v=ZyBDKu55EGw  \n",
       "4  https://www.youtube.com/watch?v=HbaarPJ3Jvs  "
      ]
     },
     "execution_count": 37,
     "metadata": {},
     "output_type": "execute_result"
    }
   ],
   "source": [
    "df = pd.read_excel(\"kobe_videos.xlsx\")\n",
    "df.head()"
   ]
  },
  {
   "cell_type": "code",
   "execution_count": 39,
   "metadata": {},
   "outputs": [],
   "source": [
    "def parse_datetime(upload_date):\n",
    "  formatted_date = datetime.fromisoformat(upload_date).strftime(\"%Y-%m-%d %H:%M:%S %z\")\n",
    "  return formatted_date\n",
    "\n",
    "df[\"upload_date\"] = df[\"upload_date\"].map(lambda date: parse_datetime(date))\n",
    "\n",
    "\n",
    "with pd.ExcelWriter(\"kobe_videos.xlsx\", mode='w', engine=\"openpyxl\") as writer:\n",
    "  df.to_excel(writer, index=False)\n",
    "\n"
   ]
  }
 ],
 "metadata": {
  "kernelspec": {
   "display_name": "base",
   "language": "python",
   "name": "python3"
  },
  "language_info": {
   "codemirror_mode": {
    "name": "ipython",
    "version": 3
   },
   "file_extension": ".py",
   "mimetype": "text/x-python",
   "name": "python",
   "nbconvert_exporter": "python",
   "pygments_lexer": "ipython3",
   "version": "3.11.5"
  }
 },
 "nbformat": 4,
 "nbformat_minor": 2
}
