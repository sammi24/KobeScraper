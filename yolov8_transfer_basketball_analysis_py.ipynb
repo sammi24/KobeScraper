{
  "nbformat": 4,
  "nbformat_minor": 0,
  "metadata": {
    "colab": {
      "provenance": [],
      "authorship_tag": "ABX9TyORE/0IAKLN8IFZu4pExD6X",
      "include_colab_link": true
    },
    "kernelspec": {
      "name": "python3",
      "display_name": "Python 3"
    },
    "language_info": {
      "name": "python"
    }
  },
  "cells": [
    {
      "cell_type": "markdown",
      "metadata": {
        "id": "view-in-github",
        "colab_type": "text"
      },
      "source": [
        "<a href=\"https://colab.research.google.com/github/sammig6i/KobeScraper/blob/main/yolov8_transfer_basketball_analysis_py.ipynb\" target=\"_parent\"><img src=\"https://colab.research.google.com/assets/colab-badge.svg\" alt=\"Open In Colab\"/></a>"
      ]
    },
    {
      "cell_type": "code",
      "source": [
        "!nvidia-smi"
      ],
      "metadata": {
        "colab": {
          "base_uri": "https://localhost:8080/"
        },
        "id": "lKnt_eBqfwm5",
        "outputId": "cdf16909-9f0d-4221-ff97-61d7766635a4"
      },
      "execution_count": 1,
      "outputs": [
        {
          "output_type": "stream",
          "name": "stdout",
          "text": [
            "Sat Apr  6 21:40:13 2024       \n",
            "+---------------------------------------------------------------------------------------+\n",
            "| NVIDIA-SMI 535.104.05             Driver Version: 535.104.05   CUDA Version: 12.2     |\n",
            "|-----------------------------------------+----------------------+----------------------+\n",
            "| GPU  Name                 Persistence-M | Bus-Id        Disp.A | Volatile Uncorr. ECC |\n",
            "| Fan  Temp   Perf          Pwr:Usage/Cap |         Memory-Usage | GPU-Util  Compute M. |\n",
            "|                                         |                      |               MIG M. |\n",
            "|=========================================+======================+======================|\n",
            "|   0  NVIDIA A100-SXM4-40GB          Off | 00000000:00:04.0 Off |                    0 |\n",
            "| N/A   30C    P0              43W / 400W |      2MiB / 40960MiB |      0%      Default |\n",
            "|                                         |                      |             Disabled |\n",
            "+-----------------------------------------+----------------------+----------------------+\n",
            "                                                                                         \n",
            "+---------------------------------------------------------------------------------------+\n",
            "| Processes:                                                                            |\n",
            "|  GPU   GI   CI        PID   Type   Process name                            GPU Memory |\n",
            "|        ID   ID                                                             Usage      |\n",
            "|=======================================================================================|\n",
            "|  No running processes found                                                           |\n",
            "+---------------------------------------------------------------------------------------+\n"
          ]
        }
      ]
    },
    {
      "cell_type": "code",
      "source": [
        "from psutil import virtual_memory\n",
        "ram_gb = virtual_memory().total / 1e9\n",
        "print('Your runtime has {:.1f} gigabytes of available RAM\\n'.format(ram_gb))\n",
        "\n",
        "if ram_gb < 20:\n",
        "  print('Not using a high-RAM runtime')\n",
        "else:\n",
        "  print('You are using a high-RAM runtime!')"
      ],
      "metadata": {
        "colab": {
          "base_uri": "https://localhost:8080/"
        },
        "id": "1eMD683BWlZy",
        "outputId": "cdccab37-525a-4ad2-8d2d-49583666941a"
      },
      "execution_count": 2,
      "outputs": [
        {
          "output_type": "stream",
          "name": "stdout",
          "text": [
            "Your runtime has 89.6 gigabytes of available RAM\n",
            "\n",
            "You are using a high-RAM runtime!\n"
          ]
        }
      ]
    },
    {
      "cell_type": "code",
      "source": [
        "!pip install ultralytics torch torchvision torchaudio\n"
      ],
      "metadata": {
        "id": "bbQVOsaMR7e9",
        "collapsed": true
      },
      "execution_count": null,
      "outputs": []
    },
    {
      "cell_type": "code",
      "source": [
        "from google.colab import drive\n",
        "drive.mount('/content/drive')\n",
        "\n",
        "FOLDERNAME = 'basketball_dataset/'\n",
        "assert FOLDERNAME is not None, \"[!] Enter the foldername.\"\n",
        "\n",
        "# Now that we've mounted your Drive, this ensures that\n",
        "# the Python interpreter of the Colab VM can load\n",
        "# python files from within it.\n",
        "import sys\n",
        "sys.path.append('/content/drive/MyDrive/{}'.format(FOLDERNAME))\n"
      ],
      "metadata": {
        "colab": {
          "base_uri": "https://localhost:8080/"
        },
        "id": "RuEZz6hjZdix",
        "outputId": "b934a71e-fe56-4530-8c58-c41e6dc99dbd"
      },
      "execution_count": 2,
      "outputs": [
        {
          "output_type": "stream",
          "name": "stdout",
          "text": [
            "Mounted at /content/drive\n"
          ]
        }
      ]
    },
    {
      "cell_type": "code",
      "execution_count": 10,
      "metadata": {
        "id": "Nl3XKL-wEjeu",
        "colab": {
          "base_uri": "https://localhost:8080/"
        },
        "outputId": "c51bb4ff-f317-4d02-9d2e-e35a9105d943"
      },
      "outputs": [
        {
          "output_type": "stream",
          "name": "stdout",
          "text": [
            "/content\n",
            "The autoreload extension is already loaded. To reload it, use:\n",
            "  %reload_ext autoreload\n"
          ]
        }
      ],
      "source": [
        "import pandas as pd\n",
        "import numpy as np\n",
        "import cv2\n",
        "import ultralytics\n",
        "import os\n",
        "import yaml\n",
        "from IPython import display\n",
        "display.clear_output()\n",
        "\n",
        "HOME = os.getcwd()\n",
        "print(HOME)\n",
        "\n",
        "%load_ext autoreload\n",
        "%autoreload 2\n"
      ]
    },
    {
      "cell_type": "code",
      "source": [
        "\n",
        "# Directory path\n",
        "train_frames_dir = '/content/drive/MyDrive/basketball_dataset/kobe_bryant_1/train/frames'\n",
        "train_labels_dir = '/content/drive/MyDrive/basketball_dataset/kobe_bryant_1/train/labels'\n",
        "test_frames_dir = '/content/drive/MyDrive/basketball_dataset/kobe_bryant_1/test/labels'\n",
        "test_labels_dir = '/content/drive/MyDrive/basketball_dataset/kobe_bryant_1/test/labels'\n",
        "\n",
        "\n",
        "# List all files in the directory\n",
        "train_frames = os.listdir(train_frames_dir)\n",
        "train_labels = os.listdir(train_labels_dir)\n",
        "test_frames = os.listdir(test_frames_dir)\n",
        "test_labels = os.listdir(test_labels_dir)\n",
        "\n",
        "# Count the number of files\n",
        "num_train_frames = len(train_frames)\n",
        "num_train_labels = len(train_labels)\n",
        "num_test_frames = len(test_frames)\n",
        "num_test_labels = len(test_labels)\n",
        "\n",
        "print(\"Train Split\")\n",
        "print(\"Number of training frame set:\", num_train_frames)\n",
        "print(\"Number of training label set:\", num_train_labels)\n",
        "\n",
        "print(\"\\nTest Split\")\n",
        "print(\"Number of training label set:\", num_test_frames)\n",
        "print(\"Number of training label set:\", num_test_labels)\n"
      ],
      "metadata": {
        "id": "_W86ctWdn-Ob",
        "colab": {
          "base_uri": "https://localhost:8080/"
        },
        "outputId": "37413709-4b2d-4d86-83e5-2aac41d68883"
      },
      "execution_count": 4,
      "outputs": [
        {
          "output_type": "stream",
          "name": "stdout",
          "text": [
            "Train Split\n",
            "Number of training frame set: 3195\n",
            "Number of training label set: 3195\n",
            "\n",
            "Test Split\n",
            "Number of training label set: 930\n",
            "Number of training label set: 930\n"
          ]
        }
      ]
    },
    {
      "cell_type": "code",
      "source": [
        "from ultralytics import YOLO\n",
        "from IPython.display import display, Image\n",
        "%cd {HOME}\n",
        "\n",
        "class TrainerYOLOv8():\n",
        "  def __init__(self, cfg):\n",
        "    self.cfg = cfg\n",
        "    self.data = cfg['data']\n",
        "    self.imgsz = cfg['imgsz']\n",
        "    self.batch = cfg['batch_size']\n",
        "    self.epochs = cfg['epochs']\n",
        "    self.output = cfg['name']\n",
        "    self.mode = cfg['mode']\n",
        "\n",
        "    self.model = YOLO(cfg['model'])\n",
        "\n",
        "  def train(self):\n",
        "    results = self.model.train(mode=self.mode,\n",
        "                               data=self.data,\n",
        "                               imgsz=self.imgsz,\n",
        "                               batch=self.batch,\n",
        "                               name=self.output\n",
        "                               )\n",
        "  def val(self):\n",
        "    results = self.model.val(data=self.data,\n",
        "                             imgsz=self.imgsz,\n",
        "                             name=self.output)\n",
        "\n",
        "config_path = f\"{HOME}/drive/MyDrive/basketball_dataset/kobe_bryant_1/data.yaml\"\n",
        "with open(config_path) as file:\n",
        "  cfg = yaml.load(file, Loader=yaml.FullLoader)\n",
        "\n",
        "\n",
        "\n",
        "\n",
        "\n"
      ],
      "metadata": {
        "colab": {
          "base_uri": "https://localhost:8080/"
        },
        "id": "VM1stobc68WF",
        "outputId": "04105860-7184-4f69-a315-b5a6e7845b29"
      },
      "execution_count": 13,
      "outputs": [
        {
          "output_type": "stream",
          "name": "stdout",
          "text": [
            "/content\n"
          ]
        }
      ]
    },
    {
      "cell_type": "code",
      "source": [
        "trainer = TrainerYOLOv8(cfg)\n"
      ],
      "metadata": {
        "id": "Kcv9avBzbV7t"
      },
      "execution_count": 9,
      "outputs": []
    }
  ]
}